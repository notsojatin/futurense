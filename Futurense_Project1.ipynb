{
  "nbformat": 4,
  "nbformat_minor": 0,
  "metadata": {
    "colab": {
      "name": "Futurense_Project1",
      "provenance": [],
      "collapsed_sections": []
    },
    "kernelspec": {
      "name": "python3",
      "display_name": "Python 3"
    },
    "language_info": {
      "name": "python"
    }
  },
  "cells": [
    {
      "cell_type": "code",
      "metadata": {
        "colab": {
          "base_uri": "https://localhost:8080/"
        },
        "id": "ZCl0uzm4-EaJ",
        "outputId": "cb1e8bab-1fa2-4f7f-c44d-6fe8cb9f0519"
      },
      "source": [
        "!pip install pyspark"
      ],
      "execution_count": 1,
      "outputs": [
        {
          "output_type": "stream",
          "name": "stdout",
          "text": [
            "Requirement already satisfied: pyspark in /usr/local/lib/python3.7/dist-packages (3.2.0)\n",
            "Requirement already satisfied: py4j==0.10.9.2 in /usr/local/lib/python3.7/dist-packages (from pyspark) (0.10.9.2)\n"
          ]
        }
      ]
    },
    {
      "cell_type": "code",
      "metadata": {
        "id": "QZ7W1l-Z-mZ5"
      },
      "source": [
        "from pyspark.sql import SparkSession\n",
        "from pyspark.sql.functions import *\n",
        "import seaborn as sns\n",
        "import matplotlib.pyplot as plot"
      ],
      "execution_count": 2,
      "outputs": []
    },
    {
      "cell_type": "code",
      "metadata": {
        "id": "bz9uKbJ4-wab"
      },
      "source": [
        "spark=SparkSession.builder.appName(\"Project1\").getOrCreate()"
      ],
      "execution_count": 3,
      "outputs": []
    },
    {
      "cell_type": "code",
      "metadata": {
        "id": "eJzZLizq-xhF"
      },
      "source": [
        "pyspark_df=spark.read.csv('drive/MyDrive/Colab Notebooks/data/Project 1_dataset_bank-full.csv',header=True,inferSchema=True,sep =\";\",quote='')"
      ],
      "execution_count": 4,
      "outputs": []
    },
    {
      "cell_type": "code",
      "metadata": {
        "id": "0O0uhvcWb6Gd"
      },
      "source": [
        "pyspark_df=pyspark_df.toDF(*list(map(lambda x: x.replace('\"', ''), pyspark_df.columns)))"
      ],
      "execution_count": 5,
      "outputs": []
    },
    {
      "cell_type": "code",
      "metadata": {
        "id": "NFH8dDonijgF"
      },
      "source": [
        "for column_name,column_type in pyspark_df.dtypes:\n",
        "  if column_type == 'string':\n",
        "    pyspark_df = pyspark_df.withColumn(column_name, regexp_replace(column_name, '\"', ''))\n",
        "pyspark_df = pyspark_df.withColumn(\"age\", pyspark_df.age.cast(\"integer\"))"
      ],
      "execution_count": 6,
      "outputs": []
    },
    {
      "cell_type": "code",
      "metadata": {
        "colab": {
          "base_uri": "https://localhost:8080/"
        },
        "id": "V9baD0B4kBv5",
        "outputId": "01afbd58-038f-4233-82a1-70e2e65fd444"
      },
      "source": [
        "pyspark_df.printSchema()"
      ],
      "execution_count": 7,
      "outputs": [
        {
          "output_type": "stream",
          "name": "stdout",
          "text": [
            "root\n",
            " |-- age: integer (nullable = true)\n",
            " |-- job: string (nullable = true)\n",
            " |-- marital: string (nullable = true)\n",
            " |-- education: string (nullable = true)\n",
            " |-- default: string (nullable = true)\n",
            " |-- balance: integer (nullable = true)\n",
            " |-- housing: string (nullable = true)\n",
            " |-- loan: string (nullable = true)\n",
            " |-- contact: string (nullable = true)\n",
            " |-- day: integer (nullable = true)\n",
            " |-- month: string (nullable = true)\n",
            " |-- duration: integer (nullable = true)\n",
            " |-- campaign: integer (nullable = true)\n",
            " |-- pdays: integer (nullable = true)\n",
            " |-- previous: integer (nullable = true)\n",
            " |-- poutcome: string (nullable = true)\n",
            " |-- y: string (nullable = true)\n",
            "\n"
          ]
        }
      ]
    },
    {
      "cell_type": "code",
      "metadata": {
        "colab": {
          "base_uri": "https://localhost:8080/"
        },
        "id": "CSxb6JXFsnxI",
        "outputId": "e2b17d03-f43a-4d48-b358-f5c1852a8cc3"
      },
      "source": [
        "#Success Rate\n",
        "success_rate=pyspark_df.filter(\"y=='yes'\").count()/pyspark_df.count()\n",
        "print(f'{success_rate*100:.2f}')"
      ],
      "execution_count": 8,
      "outputs": [
        {
          "output_type": "stream",
          "name": "stdout",
          "text": [
            "11.70\n"
          ]
        }
      ]
    },
    {
      "cell_type": "code",
      "metadata": {
        "colab": {
          "base_uri": "https://localhost:8080/"
        },
        "id": "wX-yMzNLt35z",
        "outputId": "0d6e2ea6-77c3-44a0-cc42-0329fb23c9f4"
      },
      "source": [
        "#failure rate\n",
        "failure_rate=(1-success_rate) # can also be done by: failure_rate=pyspark_df.filter(\"y!='yes'\").count()/pyspark_df.count()\n",
        "print(f'{failure_rate*100:.2f}')\n",
        "#"
      ],
      "execution_count": 9,
      "outputs": [
        {
          "output_type": "stream",
          "name": "stdout",
          "text": [
            "88.30\n"
          ]
        }
      ]
    },
    {
      "cell_type": "code",
      "metadata": {
        "colab": {
          "base_uri": "https://localhost:8080/"
        },
        "id": "krnKTdFDuPUw",
        "outputId": "a8038cb7-26b3-44d2-e502-d86f81c456a4"
      },
      "source": [
        "#minimum, maximum and average\n",
        "avg_age=pyspark_df.agg(max('age').alias('Max'),min('age').alias('Min'),avg('age').alias('Mean'))\n",
        "avg_age.show()"
      ],
      "execution_count": 10,
      "outputs": [
        {
          "output_type": "stream",
          "name": "stdout",
          "text": [
            "+---+---+-----------------+\n",
            "|Max|Min|             Mean|\n",
            "+---+---+-----------------+\n",
            "| 95| 18|40.93621021432837|\n",
            "+---+---+-----------------+\n",
            "\n"
          ]
        }
      ]
    },
    {
      "cell_type": "code",
      "metadata": {
        "colab": {
          "base_uri": "https://localhost:8080/"
        },
        "id": "iV6L678SVxF9",
        "outputId": "4c8b02aa-e148-4893-f584-ef3630831cda"
      },
      "source": [
        "##finding max value using rdd lambda operation\n",
        "import builtins as p\n",
        "age_rdd=pyspark_df.select('age').rdd\n",
        "age_rdd.map(lambda x:(1,x[0])).groupByKey().map(lambda x: p.max(list(x[-1]))).collect()"
      ],
      "execution_count": 11,
      "outputs": [
        {
          "output_type": "execute_result",
          "data": {
            "text/plain": [
              "[95]"
            ]
          },
          "metadata": {},
          "execution_count": 11
        }
      ]
    },
    {
      "cell_type": "code",
      "metadata": {
        "colab": {
          "base_uri": "https://localhost:8080/"
        },
        "id": "dIBdNjg4wk4y",
        "outputId": "fdbf9e66-e125-4655-8618-68c7388ebb84"
      },
      "source": [
        "#average and median balance\n",
        "pyspark_df.agg(avg('balance').alias('Average Balance'),expr('percentile(balance, array(0.5))')[0].alias('Median')).show()"
      ],
      "execution_count": 12,
      "outputs": [
        {
          "output_type": "stream",
          "name": "stdout",
          "text": [
            "+------------------+------+\n",
            "|   Average Balance|Median|\n",
            "+------------------+------+\n",
            "|1362.2720576850766| 448.0|\n",
            "+------------------+------+\n",
            "\n"
          ]
        }
      ]
    },
    {
      "cell_type": "code",
      "metadata": {
        "id": "-tjosboSGot3"
      },
      "source": [
        "#finding number of account holder by age\n",
        "age_df=pyspark_df.filter(\"y=='yes'\").groupby('age').agg({'*':'count'}).orderBy('age', ascending=False)"
      ],
      "execution_count": 13,
      "outputs": []
    },
    {
      "cell_type": "code",
      "metadata": {
        "colab": {
          "base_uri": "https://localhost:8080/",
          "height": 296
        },
        "id": "0qLNHnYKMymA",
        "outputId": "ca7e5e9e-7cc6-48ba-dab7-b4c4cbaacab2"
      },
      "source": [
        "# from the below graph we can see that age group of 25-40 has highest number of account holders\n",
        "sns.lineplot(x = \"age\", y = \"count(1)\", data = age_df.toPandas()).set(xlabel='Age', ylabel='Count')"
      ],
      "execution_count": 14,
      "outputs": [
        {
          "output_type": "execute_result",
          "data": {
            "text/plain": [
              "[Text(0, 0.5, 'Count'), Text(0.5, 0, 'Age')]"
            ]
          },
          "metadata": {},
          "execution_count": 14
        },
        {
          "output_type": "display_data",
          "data": {
            "image/png": "[encoded data removed]",
            "text/plain": [
              "<Figure size 432x288 with 1 Axes>"
            ]
          },
          "metadata": {
            "needs_background": "light"
          }
        }
      ]
    },
    {
      "cell_type": "code",
      "metadata": {
        "id": "WvYHX3xHNTdS"
      },
      "source": [
        "#finding number of account holder by their marital status\n",
        "marital_df=pyspark_df.filter(\"y=='yes'\").groupby('marital').agg({'*':'count'}).orderBy('marital', ascending=False)"
      ],
      "execution_count": 15,
      "outputs": []
    },
    {
      "cell_type": "code",
      "metadata": {
        "colab": {
          "base_uri": "https://localhost:8080/",
          "height": 296
        },
        "id": "R8N4hz2uPwvP",
        "outputId": "10d07bd1-8a90-4037-cdcb-ff82ffeef591"
      },
      "source": [
        "#from below graph we can see the maximum of account holders are married and very few of them are divorced\n",
        "sns.barplot(x = \"marital\", y = \"count(1)\", data = marital_df.toPandas()).set(xlabel='Marital', ylabel='Count')"
      ],
      "execution_count": 16,
      "outputs": [
        {
          "output_type": "execute_result",
          "data": {
            "text/plain": [
              "[Text(0, 0.5, 'Count'), Text(0.5, 0, 'Marital')]"
            ]
          },
          "metadata": {},
          "execution_count": 16
        },
        {
          "output_type": "display_data",
          "data": {
            "image/png": "[encoded data removed]",
            "text/plain": [
              "<Figure size 432x288 with 1 Axes>"
            ]
          },
          "metadata": {
            "needs_background": "light"
          }
        }
      ]
    },
    {
      "cell_type": "code",
      "metadata": {
        "id": "ZbS1n3RTP63X"
      },
      "source": [
        "#finding number of account holder by their age and marital status\n",
        "age_marital_df=pyspark_df.filter(\"y=='yes'\").groupby('age','marital').agg({'*':'count'}).orderBy(['marital','age'], ascending=False)\n",
        "# age_marital_df=pyspark_df.filter(\"y=='yes'\").groupby('age','marital').agg({'*':'count'}).orderBy(pyspark_df.marital.desc(),pyspark_df.age.asc())"
      ],
      "execution_count": 17,
      "outputs": []
    },
    {
      "cell_type": "code",
      "metadata": {
        "id": "K2KFMIi5Xog5"
      },
      "source": [
        "#adding new column for unique age and marital group\n",
        "age_marital_df=age_marital_df.withColumn(\"age_marital\",concat(col(\"age\"), lit(\"_\"), col(\"marital\")))"
      ],
      "execution_count": 18,
      "outputs": []
    },
    {
      "cell_type": "code",
      "metadata": {
        "colab": {
          "base_uri": "https://localhost:8080/",
          "height": 352
        },
        "id": "5v_Cm8XuaFyk",
        "outputId": "83d19040-cda4-4923-e1fc-a249f1447aca"
      },
      "source": [
        "#from the below graph we can see that age have high effect on single marital status, low in married marital and very low in divorced marital status\n",
        "fig, ax = plot.subplots(figsize=(20, 5))\n",
        "sns.lineplot(x = \"age_marital\", y = \"count(1)\", data = age_marital_df.toPandas()).set(xlabel='Marital Age', ylabel='Count')"
      ],
      "execution_count": 19,
      "outputs": [
        {
          "output_type": "execute_result",
          "data": {
            "text/plain": [
              "[Text(0, 0.5, 'Count'), Text(0.5, 0, 'Marital Age')]"
            ]
          },
          "metadata": {},
          "execution_count": 19
        },
        {
          "output_type": "display_data",
          "data": {
            "image/png": "[encoded data removed]",
            "text/plain": [
              "<Figure size 1440x360 with 1 Axes>"
            ]
          },
          "metadata": {
            "needs_background": "light"
          }
        }
      ]
    },
    {
      "cell_type": "code",
      "metadata": {
        "id": "1g97v0JEi9a4"
      },
      "source": [
        "#udf to categorize based on the age\n",
        "def return_age_type(age):\n",
        "  if age<=20:\n",
        "    return \"teen\"\n",
        "  if age>20 and age<=35:\n",
        "    return \"adult\"\n",
        "  if age>40 and age<70:\n",
        "    return \"middle-aged\"\n",
        "  return \"old\"\n",
        "\n",
        "age_udf=udf(lambda x:return_age_type(x))"
      ],
      "execution_count": 20,
      "outputs": []
    },
    {
      "cell_type": "code",
      "metadata": {
        "id": "nUuaCWcIjkf8"
      },
      "source": [
        "#adding age category column in the given df\n",
        "pyspark_df_f_engineering=pyspark_df.withColumn(\"age_type\",age_udf(pyspark_df.age))"
      ],
      "execution_count": 21,
      "outputs": []
    },
    {
      "cell_type": "code",
      "metadata": {
        "id": "qiFr5jgnkC3q"
      },
      "source": [
        "#finding number of account holder by age category\n",
        "age_df_feature_engineering=pyspark_df_f_engineering.filter(\"y=='yes'\").groupby('age_type').agg({'*':'count'}).orderBy('age_type', ascending=False)"
      ],
      "execution_count": 22,
      "outputs": []
    },
    {
      "cell_type": "code",
      "metadata": {
        "colab": {
          "base_uri": "https://localhost:8080/",
          "height": 296
        },
        "id": "TwaU9BeJZtlh",
        "outputId": "786f6101-6eab-44be-d9ba-41ad9c61e362"
      },
      "source": [
        "#from below graph we can see the maximum of account holders are adult or middle aged\n",
        "sns.barplot(x = \"age_type\", y = \"count(1)\", data = age_df_feature_engineering.toPandas()).set(xlabel='Age Category', ylabel='Count')"
      ],
      "execution_count": 23,
      "outputs": [
        {
          "output_type": "execute_result",
          "data": {
            "text/plain": [
              "[Text(0, 0.5, 'Count'), Text(0.5, 0, 'Age Category')]"
            ]
          },
          "metadata": {},
          "execution_count": 23
        },
        {
          "output_type": "display_data",
          "data": {
            "image/png": "[encoded data removed]",
            "text/plain": [
              "<Figure size 432x288 with 1 Axes>"
            ]
          },
          "metadata": {
            "needs_background": "light"
          }
        }
      ]
    },
    {
      "cell_type": "code",
      "metadata": {
        "id": "zFp_k2NaZ-xG"
      },
      "source": [
        ""
      ],
      "execution_count": 23,
      "outputs": []
    }
  ]
}